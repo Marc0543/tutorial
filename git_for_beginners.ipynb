{
 "cells": [
  {
   "cell_type": "markdown",
   "metadata": {},
   "source": [
    "# Bases de Git"
   ]
  },
  {
   "cell_type": "markdown",
   "metadata": {},
   "source": [
    "### Créer un repo "
   ]
  },
  {
   "cell_type": "markdown",
   "metadata": {},
   "source": [
    "Commandes : <br>\n",
    " mkdir repo <br>\n",
    " cd repo <br>\n",
    " git init <br>\n",
    " git branch -m main  <br>"
   ]
  },
  {
   "cell_type": "markdown",
   "metadata": {},
   "source": [
    "### Ajouter des fichiers + versionner"
   ]
  },
  {
   "cell_type": "markdown",
   "metadata": {},
   "source": [
    "echo \"juste une modif\" >> just_an_example.txt\n",
    "git add <nom du fichier> <br>\n",
    "git commit -m \"commit message\""
   ]
  },
  {
   "cell_type": "markdown",
   "metadata": {},
   "source": [
    "### Configurer le user name "
   ]
  },
  {
   "cell_type": "markdown",
   "metadata": {},
   "source": [
    "Sur linux , par défaut le nom de l'utilisateur est utilisé comme identité du commit.<br>\n",
    "On doit donc le configurer"
   ]
  },
  {
   "cell_type": "markdown",
   "metadata": {},
   "source": [
    "git config --global --edit <br>\n",
    "L'editeur de texte s'ouvre et on modifie les lignes correspondantes"
   ]
  },
  {
   "cell_type": "markdown",
   "metadata": {},
   "source": [
    "## Lien entre répo local et en ligne"
   ]
  },
  {
   "cell_type": "markdown",
   "metadata": {},
   "source": [
    "git remote add origin https://github.com/Marc0543/tutorial.git <br>\n",
    "\n",
    "git push -u origin main"
   ]
  },
  {
   "cell_type": "markdown",
   "metadata": {},
   "source": [
    "### Créer une nouvelle branche"
   ]
  },
  {
   "cell_type": "markdown",
   "metadata": {},
   "source": [
    "git branch new_branch <br>\n",
    "git checkout new_branch # on bascule dedans"
   ]
  },
  {
   "cell_type": "markdown",
   "metadata": {},
   "source": []
  },
  {
   "cell_type": "code",
   "execution_count": null,
   "metadata": {
    "vscode": {
     "languageId": "plaintext"
    }
   },
   "outputs": [],
   "source": []
  },
  {
   "cell_type": "markdown",
   "metadata": {},
   "source": []
  }
 ],
 "metadata": {
  "language_info": {
   "name": "python"
  }
 },
 "nbformat": 4,
 "nbformat_minor": 2
}
