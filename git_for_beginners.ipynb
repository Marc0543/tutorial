{
 "cells": [
  {
   "cell_type": "markdown",
   "metadata": {},
   "source": [
    "# Bases de Git"
   ]
  },
  {
   "cell_type": "markdown",
   "metadata": {},
   "source": [
    "### Créer un repo "
   ]
  },
  {
   "cell_type": "markdown",
   "metadata": {},
   "source": [
    "Commandes : <br>\n",
    " mkdir repo <br>\n",
    " cd repo <br>\n",
    " git init <br>\n",
    " git branch -m main  <br>"
   ]
  },
  {
   "cell_type": "markdown",
   "metadata": {},
   "source": [
    "### Ajouter des fichiers + versionner"
   ]
  },
  {
   "cell_type": "markdown",
   "metadata": {},
   "source": [
    "echo \"juste une modif\" >> just_an_example.txt\n",
    "git add <nom du fichier> <br>\n",
    "git commit -m \"commit message\""
   ]
  },
  {
   "cell_type": "markdown",
   "metadata": {},
   "source": [
    "## Lien entre répo local et en ligne"
   ]
  },
  {
   "cell_type": "markdown",
   "metadata": {},
   "source": [
    "git remote add origin https://github.com/Marc0543/tutorial.git <br>\n",
    "\n",
    "git push -u origin main"
   ]
  },
  {
   "cell_type": "markdown",
   "metadata": {},
   "source": [
    "### Créer une nouvelle branche"
   ]
  },
  {
   "cell_type": "markdown",
   "metadata": {},
   "source": [
    "git branch new_branch <br>\n",
    "git checkout new_branch # on bascule dedans"
   ]
  },
  {
   "cell_type": "markdown",
   "metadata": {},
   "source": [
    "### Merge"
   ]
  },
  {
   "cell_type": "markdown",
   "metadata": {},
   "source": [
    "git checkout main <br>\n",
    "git merge new_branch <br>"
   ]
  },
  {
   "cell_type": "markdown",
   "metadata": {},
   "source": [
    "## Intégrer des changements du répo distant "
   ]
  },
  {
   "cell_type": "markdown",
   "metadata": {},
   "source": [
    "git pull origin main"
   ]
  },
  {
   "cell_type": "markdown",
   "metadata": {},
   "source": [
    "## Sur un autre compte "
   ]
  },
  {
   "cell_type": "markdown",
   "metadata": {},
   "source": [
    "git clone https://github.com/Marc0543/tutorial.git <br>\n",
    "cd tutorial <br>\n",
    "git branch guest_branch <br>\n",
    "git checkout guest_branch <br>\n",
    "-> faire des modifs, add , commit  <br>\n",
    "git push -u origin guest_branch "
   ]
  },
  {
   "cell_type": "markdown",
   "metadata": {},
   "source": [
    "### Basculement sur le compte propriétaire"
   ]
  },
  {
   "cell_type": "markdown",
   "metadata": {},
   "source": [
    "En ligne (GUI), aller dans l'onglet pull request <br>\n",
    "Comparer , commenter  et accepter <br"
   ]
  },
  {
   "cell_type": "markdown",
   "metadata": {},
   "source": [
    "Voilà ! "
   ]
  },
  {
   "cell_type": "markdown",
   "metadata": {},
   "source": []
  }
 ],
 "metadata": {
  "language_info": {
   "name": "python"
  }
 },
 "nbformat": 4,
 "nbformat_minor": 2
}
